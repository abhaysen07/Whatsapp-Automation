{
 "cells": [
  {
   "cell_type": "code",
   "execution_count": null,
   "metadata": {},
   "outputs": [],
   "source": [
    "# Install whatspp-web library\n",
    "#pip install whatsapp-web\n",
    "pip install selenium"
   ]
  },
  {
   "cell_type": "code",
   "execution_count": 1,
   "metadata": {},
   "outputs": [
    {
     "name": "stdout",
     "output_type": "stream",
     "text": [
      "Requirement already satisfied: selenium in c:\\programdata\\anaconda3\\lib\\site-packages (3.141.0)Note: you may need to restart the kernel to use updated packages.\n",
      "\n",
      "Requirement already satisfied: urllib3 in c:\\programdata\\anaconda3\\lib\\site-packages (from selenium) (1.25.11)\n"
     ]
    }
   ],
   "source": [
    "pip install selenium"
   ]
  },
  {
   "cell_type": "code",
   "execution_count": 2,
   "metadata": {},
   "outputs": [],
   "source": [
    "# Basic Libraries to work on Automation Part.\n",
    "import time\n",
    "import os\n",
    "from selenium import webdriver\n",
    "from simon.accounts.pages import LoginPage\n",
    "from simon.header.pages import HeaderPage\n",
    "from simon.pages import BasePage\n",
    "from selenium.webdriver.support.ui import WebDriverWait\n",
    "from selenium.webdriver.support import expected_conditions as EC\n",
    "from selenium.webdriver.common.by import By\n",
    "from selenium.webdriver.common.action_chains import ActionChains\n",
    "from selenium.webdriver.common.keys import Keys"
   ]
  },
  {
   "cell_type": "code",
   "execution_count": 3,
   "metadata": {},
   "outputs": [
    {
     "name": "stdout",
     "output_type": "stream",
     "text": [
      "[]\n"
     ]
    }
   ],
   "source": [
    "os.chdir(\"C://Users//abhis//Downloads//chromedriver_win32//\")\n",
    "print(os.listdir())"
   ]
  },
  {
   "cell_type": "code",
   "execution_count": 13,
   "metadata": {},
   "outputs": [
    {
     "name": "stdout",
     "output_type": "stream",
     "text": [
      "Enter the name to whom you want to send the messege!: Moosewala\n",
      "Enter the messege you want to send: pagal ho gya h salla\n",
      "how many times you want to send a same messege 5\n",
      "**************************************** Sended ****************************************\n"
     ]
    }
   ],
   "source": [
    "# Creating the driver (browser)\n",
    "os.chdir(r\"C://Users//abhis//Downloads//\")\n",
    "driver = webdriver.Chrome(\"chromedriver.exe\")\n",
    "driver.maximize_window()\n",
    "driver.get(\"https://web.whatsapp.com/\")\n",
    "wait = WebDriverWait(driver, 600)\n",
    "\n",
    "target = str(input(\"Enter the name to whom you want to send the messege!: \"))\n",
    "  \n",
    "# Replace the below string with your own message\n",
    "string = str(input(\"Enter the messege you want to send: \"))\n",
    "\n",
    "count = int(input(\"how many times you want to send a same messege \"))\n",
    "\n",
    "inp_xpath = '//span[@title = \"{}\"]'.format(target)\n",
    "\n",
    "user = driver.find_element_by_xpath(inp_xpath)\n",
    "user.click()\n",
    "\n",
    "msg = driver.find_element_by_xpath(\"//*[@id='main']/footer/div[1]/div[2]/div/div[2]\")\n",
    "\n",
    "button = \"//*[@id='main']/footer/div[1]/div[3]/button/span\"\n",
    "\n",
    "//*[@id=\"main\"]/footer/div[1]/div[2]/div/div[2]\n",
    "\n",
    "for i in range(count):\n",
    "    msg.send_keys(string)\n",
    "    driver.find_element_by_xpath(button).click()\n",
    "\n",
    "\n",
    "\n",
    "\n",
    "driver.quit()\n",
    "print(\"*\" * 40 + \" Sended \" + \"*\" * 40)\n",
    "\n"
   ]
  },
  {
   "cell_type": "code",
   "execution_count": 15,
   "metadata": {},
   "outputs": [
    {
     "name": "stdout",
     "output_type": "stream",
     "text": [
      "None\n"
     ]
    }
   ],
   "source": [
    "# Creating the driver (browser)\n",
    "os.chdir(r\"C://Users//abhis//Downloads//\")\n",
    "driver = webdriver.Chrome(\"chromedriver.exe\")\n",
    "driver.maximize_window()\n",
    "a = driver.get(\"https://www.hdfcbank.com/\")\n",
    "wait = WebDriverWait(driver, 600)\n",
    "print(a)"
   ]
  }
 ],
 "metadata": {
  "kernelspec": {
   "display_name": "Python 3",
   "language": "python",
   "name": "python3"
  },
  "language_info": {
   "codemirror_mode": {
    "name": "ipython",
    "version": 3
   },
   "file_extension": ".py",
   "mimetype": "text/x-python",
   "name": "python",
   "nbconvert_exporter": "python",
   "pygments_lexer": "ipython3",
   "version": "3.8.5"
  }
 },
 "nbformat": 4,
 "nbformat_minor": 4
}
